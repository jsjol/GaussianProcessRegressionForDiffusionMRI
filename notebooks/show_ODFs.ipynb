{
 "cells": [
  {
   "cell_type": "code",
   "execution_count": 1,
   "metadata": {
    "collapsed": true
   },
   "outputs": [],
   "source": [
    "from dipy.reconst import mapmri\n",
    "from dipy.viz import fvtk\n",
    "from dipy.data import fetch_cenir_multib, read_cenir_multib, get_sphere\n",
    "from dipy.core.gradients import gradient_table\n",
    "import matplotlib.pyplot as plt\n",
    "from mpl_toolkits.axes_grid1 import make_axes_locatable"
   ]
  },
  {
   "cell_type": "markdown",
   "metadata": {},
   "source": [
    "Download and read the data for this tutorial.\n",
    "\n",
    "MAPMRI requires multi-shell data, to properly fit the radial part of the basis."
   ]
  },
  {
   "cell_type": "code",
   "execution_count": null,
   "metadata": {
    "collapsed": true
   },
   "outputs": [],
   "source": [
    "with open('../config.json', 'r') as json_file:\n",
    "    conf = json.load(json_file)\n",
    "\n",
    "subject_path = conf['HCP']['data_paths']['mgh_1007']"
   ]
  },
  {
   "cell_type": "code",
   "execution_count": null,
   "metadata": {
    "collapsed": false
   },
   "outputs": [],
   "source": [
    "\n",
    "small_data = data[45:55, 45:55, 40:50, :]\n",
    "np.save('{}/mri/small_data.npy'.format(subject_path), small_data)"
   ]
  },
  {
   "cell_type": "markdown",
   "metadata": {},
   "source": [
    "For this example we select only the shell with b-values equal to the one of the\n",
    "Human Connectome Project (HCP).\n",
    "\n",
    "For the values of the q-space\n",
    "indices to make sense it is necessary to explicitly state the big_delta and\n",
    "small_delta parameters in the gradient table."
   ]
  },
  {
   "cell_type": "code",
   "execution_count": 3,
   "metadata": {
    "collapsed": false
   },
   "outputs": [
    {
     "name": "stdout",
     "output_type": "stream",
     "text": [
      "Dataset is already in place. If you want to fetch it again please first remove the folder C:\\Users\\sesjojen\\.dipy\\cenir_multib \n",
      "data.shape (104, 104, 72, 612)\n"
     ]
    }
   ],
   "source": [
    "bvals = [1000, 2000, 3000]\n",
    "img, gtab = read_cenir_multib(bvals)\n",
    "big_delta = 0.0365  # seconds\n",
    "small_delta = 0.0157  # seconds\n",
    "gtab = gradient_table(bvals=gtab.bvals, bvecs=gtab.bvecs,\n",
    "                      small_delta=big_delta,\n",
    "                      big_delta=small_delta)\n",
    "data = img.get_data()\n",
    "data_small = data[40:65, 50:51, 35:60]\n",
    "\n",
    "print('data.shape (%d, %d, %d, %d)' % data.shape)"
   ]
  },
  {
   "cell_type": "markdown",
   "metadata": {},
   "source": [
    "Instanstiate the MAPMRI Model."
   ]
  },
  {
   "cell_type": "code",
   "execution_count": 4,
   "metadata": {
    "collapsed": true
   },
   "outputs": [],
   "source": [
    "radial_order = 6\n",
    "map_model_laplacian_aniso = mapmri.MapmriModel(gtab, radial_order=radial_order,\n",
    "                                               laplacian_regularization=True,\n",
    "                                               laplacian_weighting=.2)"
   ]
  },
  {
   "cell_type": "markdown",
   "metadata": {},
   "source": [
    "We can then fit the MAPMRI model to the data."
   ]
  },
  {
   "cell_type": "code",
   "execution_count": 5,
   "metadata": {
    "collapsed": true
   },
   "outputs": [],
   "source": [
    "mapfit_laplacian_aniso = map_model_laplacian_aniso.fit(data_small)"
   ]
  },
  {
   "cell_type": "markdown",
   "metadata": {},
   "source": [
    "### Compute the ODFs"
   ]
  },
  {
   "cell_type": "markdown",
   "metadata": {},
   "source": [
    "Load an odf reconstruction sphere"
   ]
  },
  {
   "cell_type": "code",
   "execution_count": 6,
   "metadata": {
    "collapsed": true
   },
   "outputs": [],
   "source": [
    "sphere = get_sphere('symmetric724')"
   ]
  },
  {
   "cell_type": "markdown",
   "metadata": {},
   "source": [
    "The radial order s can be increased to sharpen the results, but it might\n",
    "also make the odfs noisier. Always check the results visually."
   ]
  },
  {
   "cell_type": "code",
   "execution_count": 7,
   "metadata": {
    "collapsed": false
   },
   "outputs": [
    {
     "name": "stdout",
     "output_type": "stream",
     "text": [
      "odf.shape (25, 1, 25, 724)\n"
     ]
    }
   ],
   "source": [
    "odf = mapfit_laplacian_aniso.odf(sphere, s=2)\n",
    "print('odf.shape (%d, %d, %d, %d)' % odf.shape)"
   ]
  },
  {
   "cell_type": "markdown",
   "metadata": {},
   "source": [
    "Display the ODFs"
   ]
  },
  {
   "cell_type": "code",
   "execution_count": 8,
   "metadata": {
    "collapsed": false
   },
   "outputs": [],
   "source": [
    "r = fvtk.ren()\n",
    "sfu = fvtk.sphere_funcs(odf, sphere, colormap='jet')\n",
    "sfu.RotateX(-90)\n",
    "fvtk.add(r, sfu)\n",
    "fvtk.record(r, n_frames=1, out_path='odfs.png', size=(600, 600))"
   ]
  },
  {
   "cell_type": "code",
   "execution_count": null,
   "metadata": {
    "collapsed": true
   },
   "outputs": [],
   "source": []
  }
 ],
 "metadata": {
  "anaconda-cloud": {},
  "kernelspec": {
   "display_name": "Python [conda root]",
   "language": "python",
   "name": "conda-root-py"
  },
  "language_info": {
   "codemirror_mode": {
    "name": "ipython",
    "version": 3
   },
   "file_extension": ".py",
   "mimetype": "text/x-python",
   "name": "python",
   "nbconvert_exporter": "python",
   "pygments_lexer": "ipython3",
   "version": "3.5.2"
  }
 },
 "nbformat": 4,
 "nbformat_minor": 1
}
