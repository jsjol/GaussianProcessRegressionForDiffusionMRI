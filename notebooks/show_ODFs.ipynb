{
 "cells": [
  {
   "cell_type": "code",
   "execution_count": 2,
   "metadata": {
    "collapsed": true
   },
   "outputs": [],
   "source": [
    "%load_ext autoreload\n",
    "%autoreload 2\n",
    "\n",
    "import os\n",
    "import sys\n",
    "module_path = os.path.abspath(os.path.join('..'))\n",
    "if module_path not in sys.path:\n",
    "    sys.path.append(module_path)"
   ]
  },
  {
   "cell_type": "code",
   "execution_count": 5,
   "metadata": {
    "collapsed": false
   },
   "outputs": [],
   "source": [
    "from dipy.reconst import mapmri\n",
    "from dipy.viz import fvtk\n",
    "from dipy.data import get_sphere\n",
    "import matplotlib.pyplot as plt\n",
    "from mpl_toolkits.axes_grid1 import make_axes_locatable\n",
    "\n",
    "import numpy as np\n",
    "import json\n",
    "from diGP.preprocessing import get_HCP_loader"
   ]
  },
  {
   "cell_type": "markdown",
   "metadata": {},
   "source": [
    "Read the data for this tutorial.\n",
    "\n",
    "MAPMRI requires multi-shell data, to properly fit the radial part of the basis."
   ]
  },
  {
   "cell_type": "code",
   "execution_count": 6,
   "metadata": {
    "collapsed": false
   },
   "outputs": [],
   "source": [
    "with open('../config.json', 'r') as json_file:\n",
    "    conf = json.load(json_file)\n",
    "\n",
    "subject_path = conf['HCP']['data_paths']['mgh_1007']"
   ]
  },
  {
   "cell_type": "code",
   "execution_count": 8,
   "metadata": {
    "collapsed": false
   },
   "outputs": [
    {
     "data": {
      "text/plain": [
       "(10, 10, 10, 552)"
      ]
     },
     "execution_count": 8,
     "metadata": {},
     "output_type": "execute_result"
    }
   ],
   "source": [
    "loader = get_HCP_loader(subject_path)\n",
    "small_data_path = '{}/mri/small_data.npy'.format(subject_path)\n",
    "\n",
    "loader.update_filename_data(small_data_path)\n",
    "\n",
    "data = loader.data\n",
    "gtab = loader.gtab\n",
    "voxel_size = loader.voxel_size"
   ]
  },
  {
   "cell_type": "markdown",
   "metadata": {},
   "source": [
    "Instanstiate the MAPMRI Model."
   ]
  },
  {
   "cell_type": "code",
   "execution_count": 10,
   "metadata": {
    "collapsed": true
   },
   "outputs": [],
   "source": [
    "radial_order = 6\n",
    "map_model_laplacian_aniso = mapmri.MapmriModel(gtab, radial_order=radial_order,\n",
    "                                               laplacian_regularization=True,\n",
    "                                               laplacian_weighting=.2)"
   ]
  },
  {
   "cell_type": "markdown",
   "metadata": {},
   "source": [
    "We can then fit the MAPMRI model to the data."
   ]
  },
  {
   "cell_type": "code",
   "execution_count": 12,
   "metadata": {
    "collapsed": false
   },
   "outputs": [],
   "source": [
    "mapfit_laplacian_aniso = map_model_laplacian_aniso.fit(data)"
   ]
  },
  {
   "cell_type": "markdown",
   "metadata": {},
   "source": [
    "### Compute the ODFs"
   ]
  },
  {
   "cell_type": "markdown",
   "metadata": {},
   "source": [
    "Load an odf reconstruction sphere"
   ]
  },
  {
   "cell_type": "code",
   "execution_count": 13,
   "metadata": {
    "collapsed": true
   },
   "outputs": [],
   "source": [
    "sphere = get_sphere('symmetric724')"
   ]
  },
  {
   "cell_type": "markdown",
   "metadata": {},
   "source": [
    "The radial order s can be increased to sharpen the results, but it might\n",
    "also make the odfs noisier. Always check the results visually."
   ]
  },
  {
   "cell_type": "code",
   "execution_count": 14,
   "metadata": {
    "collapsed": false
   },
   "outputs": [
    {
     "name": "stdout",
     "output_type": "stream",
     "text": [
      "odf.shape (10, 10, 10, 724)\n"
     ]
    }
   ],
   "source": [
    "odf = mapfit_laplacian_aniso.odf(sphere, s=2)\n",
    "print('odf.shape (%d, %d, %d, %d)' % odf.shape)"
   ]
  },
  {
   "cell_type": "markdown",
   "metadata": {},
   "source": [
    "## Display the ODFs"
   ]
  },
  {
   "cell_type": "code",
   "execution_count": 32,
   "metadata": {
    "collapsed": false
   },
   "outputs": [],
   "source": [
    "r = fvtk.ren()\n",
    "sfu = fvtk.sphere_funcs(odf[:,:, 5:6, :], sphere, colormap='jet')\n",
    "#sfu.RotateX(-30)\n",
    "fvtk.add(r, sfu)\n",
    "fvtk.record(r, n_frames=1, out_path='odfs.png', size=(600, 600))"
   ]
  },
  {
   "cell_type": "code",
   "execution_count": null,
   "metadata": {
    "collapsed": true
   },
   "outputs": [],
   "source": []
  }
 ],
 "metadata": {
  "anaconda-cloud": {},
  "kernelspec": {
   "display_name": "Python [conda root]",
   "language": "python",
   "name": "conda-root-py"
  },
  "language_info": {
   "codemirror_mode": {
    "name": "ipython",
    "version": 3
   },
   "file_extension": ".py",
   "mimetype": "text/x-python",
   "name": "python",
   "nbconvert_exporter": "python",
   "pygments_lexer": "ipython3",
   "version": "3.5.2"
  }
 },
 "nbformat": 4,
 "nbformat_minor": 1
}
