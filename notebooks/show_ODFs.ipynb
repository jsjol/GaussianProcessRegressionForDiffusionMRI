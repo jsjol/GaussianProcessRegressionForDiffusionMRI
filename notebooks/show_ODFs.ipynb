{
 "cells": [
  {
   "cell_type": "code",
   "execution_count": 1,
   "metadata": {
    "collapsed": true
   },
   "outputs": [],
   "source": [
    "from dipy.reconst import mapmri\n",
    "from dipy.viz import fvtk\n",
    "from dipy.data import fetch_cenir_multib, read_cenir_multib, get_sphere\n",
    "from dipy.core.gradients import gradient_table\n",
    "import matplotlib.pyplot as plt\n",
    "from mpl_toolkits.axes_grid1 import make_axes_locatable"
   ]
  },
  {
   "cell_type": "markdown",
   "metadata": {},
   "source": [
    "Download and read the data for this tutorial.\n",
    "\n",
    "MAPMRI requires multi-shell data, to properly fit the radial part of the basis.\n",
    "The total size of the downloaded data is 1760 MBytes, however you only need to\n",
    "fetch it once. Parameter ``with_raw`` of function ``fetch_cenir_multib`` is set\n",
    "to ``False`` to only download eddy-current/motion corrected data:."
   ]
  },
  {
   "cell_type": "code",
   "execution_count": 4,
   "metadata": {
    "collapsed": false
   },
   "outputs": [
    {
     "name": "stdout",
     "output_type": "stream",
     "text": [
      "Dataset is already in place. If you want to fetch it again please first remove the folder C:\\Users\\sesjojen\\.dipy\\cenir_multib \n"
     ]
    },
    {
     "data": {
      "text/plain": [
       "({'4D_dwi_eddycor_B200.nii.gz': ('https://digital.lib.washington.edu/researchworks/bitstream/handle/1773/33311/4D_dwi_eddycor_B200.nii.gz',\n",
       "   'fd704aa3deb83c1c7229202cb3db8c48'),\n",
       "  '4D_dwieddycor_B1000.nii.gz': ('https://digital.lib.washington.edu/researchworks/bitstream/handle/1773/33311/4D_dwieddycor_B1000.nii.gz',\n",
       "   'dde8037601a14436b2173f4345b5fd17'),\n",
       "  '4D_dwieddycor_B2000.nii.gz': ('https://digital.lib.washington.edu/researchworks/bitstream/handle/1773/33311/4D_dwieddycor_B2000.nii.gz',\n",
       "   'c5e4b96e3afdee99c0e994eff3b2331a'),\n",
       "  '4D_dwieddycor_B3000.nii.gz': ('https://digital.lib.washington.edu/researchworks/bitstream/handle/1773/33311/4D_dwieddycor_B3000.nii.gz',\n",
       "   'f0d70456ce424fda2cecd48e64f3a151'),\n",
       "  '4D_dwieddycor_B400.nii.gz': ('https://digital.lib.washington.edu/researchworks/bitstream/handle/1773/33311/4D_dwieddycor_B400.nii.gz',\n",
       "   '3d0f2b8ef7b6a4a3aa5c4f7a90c9cfec'),\n",
       "  'bvals_B1000': ('https://digital.lib.washington.edu/researchworks/bitstream/handle/1773/33311/bvals_B1000',\n",
       "   '97de6a492ae304f39e0b418b6ebac64c'),\n",
       "  'bvals_B2000': ('https://digital.lib.washington.edu/researchworks/bitstream/handle/1773/33311/bvals_B2000',\n",
       "   '9c83b8d5caf9c3def240f320f2d2f56c'),\n",
       "  'bvals_B3000': ('https://digital.lib.washington.edu/researchworks/bitstream/handle/1773/33311/bvals_B3000',\n",
       "   '336accdb56acbbeff8dac1748d15ceb8'),\n",
       "  'bvals_B400': ('https://digital.lib.washington.edu/researchworks/bitstream/handle/1773/33311/bvals_B400',\n",
       "   'c38056c40c9cc42372232d6e75c47f54'),\n",
       "  'bvecs_B1000': ('https://digital.lib.washington.edu/researchworks/bitstream/handle/1773/33311/bvecs_B1000',\n",
       "   'f28a0faa701bdfc66e31bde471a5b992'),\n",
       "  'bvecs_B2000': ('https://digital.lib.washington.edu/researchworks/bitstream/handle/1773/33311/bvecs_B2000',\n",
       "   '05446bd261d57193d8dbc097e06db5ff'),\n",
       "  'bvecs_B3000': ('https://digital.lib.washington.edu/researchworks/bitstream/handle/1773/33311/bvecs_B3000',\n",
       "   '27089f3baaf881d96f6a9da202e3d69b'),\n",
       "  'bvecs_B400': ('https://digital.lib.washington.edu/researchworks/bitstream/handle/1773/33311/bvecs_B400',\n",
       "   '810d79b4c30cb7dff3b2000017d5f72a'),\n",
       "  'dwi_bvals_B200': ('https://digital.lib.washington.edu/researchworks/bitstream/handle/1773/33311/dwi_bvals_B200',\n",
       "   '80ae5df76a575fe5bf9f1164bb0d4cfb'),\n",
       "  'dwi_bvecs_B200': ('https://digital.lib.washington.edu/researchworks/bitstream/handle/1773/33311/dwi_bvecs_B200',\n",
       "   '18e90f8a3e6a4db2457e5b1ba1cc98a9')},\n",
       " 'C:\\\\Users\\\\sesjojen\\\\.dipy\\\\cenir_multib')"
      ]
     },
     "execution_count": 4,
     "metadata": {},
     "output_type": "execute_result"
    }
   ],
   "source": [
    "fetch_cenir_multib(with_raw=False)"
   ]
  },
  {
   "cell_type": "markdown",
   "metadata": {},
   "source": [
    "For this example we select only the shell with b-values equal to the one of the\n",
    "Human Connectome Project (HCP).\n",
    "\n",
    "For the values of the q-space\n",
    "indices to make sense it is necessary to explicitly state the big_delta and\n",
    "small_delta parameters in the gradient table."
   ]
  },
  {
   "cell_type": "code",
   "execution_count": 5,
   "metadata": {
    "collapsed": false
   },
   "outputs": [
    {
     "name": "stdout",
     "output_type": "stream",
     "text": [
      "Dataset is already in place. If you want to fetch it again please first remove the folder C:\\Users\\sesjojen\\.dipy\\cenir_multib \n",
      "data.shape (104, 104, 72, 612)\n"
     ]
    }
   ],
   "source": [
    "bvals = [1000, 2000, 3000]\n",
    "img, gtab = read_cenir_multib(bvals)\n",
    "big_delta = 0.0365  # seconds\n",
    "small_delta = 0.0157  # seconds\n",
    "gtab = gradient_table(bvals=gtab.bvals, bvecs=gtab.bvecs,\n",
    "                      small_delta=big_delta,\n",
    "                      big_delta=small_delta)\n",
    "data = img.get_data()\n",
    "data_small = data[40:65, 50:51, 35:60]\n",
    "\n",
    "print('data.shape (%d, %d, %d, %d)' % data.shape)"
   ]
  },
  {
   "cell_type": "markdown",
   "metadata": {},
   "source": [
    "Instanstiate the MAPMRI Model."
   ]
  },
  {
   "cell_type": "code",
   "execution_count": 6,
   "metadata": {
    "collapsed": true
   },
   "outputs": [],
   "source": [
    "radial_order = 6\n",
    "map_model_laplacian_aniso = mapmri.MapmriModel(gtab, radial_order=radial_order,\n",
    "                                               laplacian_regularization=True,\n",
    "                                               laplacian_weighting=.2)"
   ]
  },
  {
   "cell_type": "markdown",
   "metadata": {},
   "source": [
    "We can then fit the MAPMRI model to the data."
   ]
  },
  {
   "cell_type": "code",
   "execution_count": 7,
   "metadata": {
    "collapsed": true
   },
   "outputs": [],
   "source": [
    "mapfit_laplacian_aniso = map_model_laplacian_aniso.fit(data_small)"
   ]
  },
  {
   "cell_type": "markdown",
   "metadata": {},
   "source": [
    "### Compute the ODFs"
   ]
  },
  {
   "cell_type": "markdown",
   "metadata": {},
   "source": [
    "Load an odf reconstruction sphere"
   ]
  },
  {
   "cell_type": "code",
   "execution_count": null,
   "metadata": {
    "collapsed": true
   },
   "outputs": [],
   "source": [
    "sphere = get_sphere('symmetric724')"
   ]
  },
  {
   "cell_type": "markdown",
   "metadata": {},
   "source": [
    "The radial order s can be increased to sharpen the results, but it might\n",
    "also make the odfs noisier. Always check the results visually."
   ]
  },
  {
   "cell_type": "code",
   "execution_count": null,
   "metadata": {
    "collapsed": true
   },
   "outputs": [],
   "source": [
    "odf = mapfit_both_iso.odf(sphere, s=2)\n",
    "print('odf.shape (%d, %d, %d, %d)' % odf.shape)"
   ]
  },
  {
   "cell_type": "markdown",
   "metadata": {},
   "source": [
    "Display the ODFs"
   ]
  },
  {
   "cell_type": "code",
   "execution_count": null,
   "metadata": {
    "collapsed": true
   },
   "outputs": [],
   "source": [
    "r = fvtk.ren()\n",
    "sfu = fvtk.sphere_funcs(odf, sphere, colormap='jet')\n",
    "sfu.RotateX(-90)\n",
    "fvtk.add(r, sfu)\n",
    "fvtk.record(r, n_frames=1, out_path='odfs.png', size=(600, 600))"
   ]
  }
 ],
 "metadata": {
  "anaconda-cloud": {},
  "kernelspec": {
   "display_name": "Python [conda root]",
   "language": "python",
   "name": "conda-root-py"
  },
  "language_info": {
   "codemirror_mode": {
    "name": "ipython",
    "version": 3
   },
   "file_extension": ".py",
   "mimetype": "text/x-python",
   "name": "python",
   "nbconvert_exporter": "python",
   "pygments_lexer": "ipython3",
   "version": "3.5.2"
  }
 },
 "nbformat": 4,
 "nbformat_minor": 1
}
