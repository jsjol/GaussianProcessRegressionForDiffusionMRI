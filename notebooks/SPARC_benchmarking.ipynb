{
 "cells": [
  {
   "cell_type": "code",
   "execution_count": null,
   "metadata": {
    "collapsed": true
   },
   "outputs": [],
   "source": [
    "%load_ext autoreload\n",
    "%autoreload 2"
   ]
  },
  {
   "cell_type": "code",
   "execution_count": null,
   "metadata": {
    "collapsed": true
   },
   "outputs": [],
   "source": [
    "import os\n",
    "import sys\n",
    "module_path = os.path.abspath(os.path.join('..'))\n",
    "if module_path not in sys.path:\n",
    "    sys.path.append(module_path)"
   ]
  },
  {
   "cell_type": "code",
   "execution_count": null,
   "metadata": {
    "collapsed": false
   },
   "outputs": [],
   "source": [
    "import json\n",
    "import numpy as np\n",
    "import matplotlib.pyplot as plt\n",
    "import seaborn as sns\n",
    "import GPy\n",
    "from dipy.core.gradients import gradient_table\n",
    "from diGP.preprocessing_pipelines import get_SPARC_train_and_test\n",
    "from diGP.dataManipulations import DataHandler\n",
    "from diGP.model import Model, get_default_kernel\n",
    "from diGP.evaluation import get_SPARC_metrics\n",
    "\n",
    "%matplotlib inline\n",
    "sns.set_style('dark')"
   ]
  },
  {
   "cell_type": "code",
   "execution_count": null,
   "metadata": {
    "collapsed": false
   },
   "outputs": [],
   "source": [
    "with open('../config.json', 'r') as json_file:\n",
    "    conf = json.load(json_file)\n",
    "data_paths = conf['SPARC']['data_paths']\n",
    "q_test_path = conf['SPARC']['q_test_path']"
   ]
  },
  {
   "cell_type": "markdown",
   "metadata": {},
   "source": [
    "Load data to use for prediction."
   ]
  },
  {
   "cell_type": "code",
   "execution_count": null,
   "metadata": {
    "collapsed": false
   },
   "outputs": [],
   "source": [
    "source = 'gradient_20'\n",
    "gtab, data, voxelSize = get_SPARC_train_and_test(data_paths[source], data_paths['goldstandard'], q_test_path)"
   ]
  },
  {
   "cell_type": "code",
   "execution_count": null,
   "metadata": {
    "collapsed": false
   },
   "outputs": [],
   "source": [
    "lmbda=None\n",
    "qMagnitudeTransform=None\n",
    "handler = DataHandler(gtab['train'], data['train'], qMagnitudeTransform=qMagnitudeTransform,\n",
    "                      voxelSize=voxelSize[0:2], box_cox_lambda=lmbda)\n",
    "handlerPred = DataHandler(gtab['test'], data=None, spatial_shape=data['test'].shape[0:2],\n",
    "                          qMagnitudeTransform=qMagnitudeTransform, voxelSize=voxelSize[0:2], box_cox_lambda=lmbda)\n"
   ]
  },
  {
   "cell_type": "code",
   "execution_count": null,
   "metadata": {
    "collapsed": false
   },
   "outputs": [],
   "source": [
    "kernel = get_default_kernel(handler)\n",
    "\n",
    "grid_dims = [[0], [1], [2, 3, 4, 5]]\n",
    "\n",
    "model = Model(handler, kernel, data_handler_pred=handlerPred, grid_dims=grid_dims, verbose=False)"
   ]
  },
  {
   "cell_type": "code",
   "execution_count": null,
   "metadata": {
    "collapsed": false
   },
   "outputs": [],
   "source": [
    "np.random.seed(0)\n",
    "model.train(restarts=False)\n",
    "\n",
    "print(model.GP_model)\n",
    "print(\"\\nLegendre coefficients: \\n{}\".format(model.GP_model.mul.LegendrePolynomial.coefficients))"
   ]
  },
  {
   "cell_type": "code",
   "execution_count": null,
   "metadata": {
    "collapsed": false
   },
   "outputs": [],
   "source": [
    "mu = model.predict(compute_var=False)\n",
    "\n",
    "pred = {'GP': mu}"
   ]
  },
  {
   "cell_type": "markdown",
   "metadata": {},
   "source": [
    "## Reference prediction with dipy"
   ]
  },
  {
   "cell_type": "code",
   "execution_count": null,
   "metadata": {
    "collapsed": true
   },
   "outputs": [],
   "source": [
    "import dipy.reconst.dti as dti\n",
    "\n",
    "tenmodel = dti.TensorModel(gtab['train'])\n",
    "tenfit = tenmodel.fit(data['train'])\n",
    "\n",
    "pred['DTI'] = tenfit.predict(gtab['test'])"
   ]
  },
  {
   "cell_type": "code",
   "execution_count": null,
   "metadata": {
    "collapsed": false
   },
   "outputs": [],
   "source": [
    "import dipy.reconst.mapmri as mapmri\n",
    "\n",
    "map_model = mapmri.MapmriModel(gtab['train'], positivity_constraint=False, laplacian_weighting='GCV',\n",
    "                               radial_order=6)\n",
    "mapfit = map_model.fit(data['train'])\n",
    "\n",
    "pred['MAP'] = mapfit.predict(gtab['test'])"
   ]
  },
  {
   "cell_type": "markdown",
   "metadata": {},
   "source": [
    "## Evaluation"
   ]
  },
  {
   "cell_type": "code",
   "execution_count": null,
   "metadata": {
    "collapsed": false
   },
   "outputs": [],
   "source": [
    "idx = 50 * np.arange(9)\n",
    "f, axs = plt.subplots(len(idx), 4)\n",
    "f.set_figheight(len(idx)*2)\n",
    "f.set_figwidth(10)\n",
    "for i, index in enumerate(idx):\n",
    "    axs[i, 0].imshow(data['test'][:, :, index], vmin=0, vmax=1, cmap=\"GnBu_r\")\n",
    "    axs[i, 0].axis('off')\n",
    "    axs[i, 0].set_title('Ground truth,\\nb = {}'.format(np.round(gtab['test'].bvals[index])))\n",
    "    axs[i, 1].imshow(pred['GP'][:, :, index], vmin=0, vmax=1, cmap=\"GnBu_r\")\n",
    "    axs[i, 1].axis('off')\n",
    "    axs[i, 1].set_title('GP prediction, \\nb = {}'.format(np.round(gtab['test'].bvals[index])))\n",
    "    axs[i, 2].imshow(pred['DTI'][:, :, index], vmin=0, vmax=1, cmap=\"GnBu_r\")\n",
    "    axs[i, 2].axis('off')\n",
    "    axs[i, 2].set_title('DTI prediction, \\nb = {}'.format(np.round(gtab['test'].bvals[index])))\n",
    "    axs[i, 3].imshow(pred['MAP'][:, :, index], vmin=0, vmax=1, cmap=\"GnBu_r\")\n",
    "    axs[i, 3].axis('off')\n",
    "    axs[i, 3].set_title('MAP-MRI prediction, \\nb = {}'.format(np.round(gtab['test'].bvals[index])))\n",
    "\n",
    "plt.tight_layout()"
   ]
  },
  {
   "cell_type": "code",
   "execution_count": null,
   "metadata": {
    "collapsed": false
   },
   "outputs": [],
   "source": [
    "for key, value in pred.items():\n",
    "    print(\"\\n{} model:\".format(key))\n",
    "    get_SPARC_metrics(gtab['test'], data['test'], value, verbose=True)"
   ]
  }
 ],
 "metadata": {
  "anaconda-cloud": {},
  "kernelspec": {
   "display_name": "Python [conda root]",
   "language": "python",
   "name": "conda-root-py"
  },
  "language_info": {
   "codemirror_mode": {
    "name": "ipython",
    "version": 3
   },
   "file_extension": ".py",
   "mimetype": "text/x-python",
   "name": "python",
   "nbconvert_exporter": "python",
   "pygments_lexer": "ipython3",
   "version": "3.5.2"
  }
 },
 "nbformat": 4,
 "nbformat_minor": 1
}
