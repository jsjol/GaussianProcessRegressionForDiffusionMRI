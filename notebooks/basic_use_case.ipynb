{
 "cells": [
  {
   "cell_type": "code",
   "execution_count": 1,
   "metadata": {
    "collapsed": false
   },
   "outputs": [],
   "source": [
    "%load_ext autoreload\n",
    "%autoreload 2"
   ]
  },
  {
   "cell_type": "code",
   "execution_count": 2,
   "metadata": {
    "collapsed": true
   },
   "outputs": [],
   "source": [
    "import os\n",
    "import sys\n",
    "module_path = os.path.abspath(os.path.join('..'))\n",
    "if module_path not in sys.path:\n",
    "    sys.path.append(module_path)"
   ]
  },
  {
   "cell_type": "code",
   "execution_count": 3,
   "metadata": {
    "collapsed": false
   },
   "outputs": [
    {
     "name": "stderr",
     "output_type": "stream",
     "text": [
      " C:\\Users\\sesjojen\\AppData\\Local\\Continuum\\Anaconda3\\lib\\site-packages\\skimage\\filter\\__init__.py:6: skimage_deprecation:The `skimage.filter` module has been renamed to `skimage.filters`.  This placeholder module will be removed in v0.13.\n"
     ]
    }
   ],
   "source": [
    "import numpy as np\n",
    "import matplotlib.pyplot as plt\n",
    "import seaborn as sns\n",
    "import GPy\n",
    "from diGP.preprocessing import (readHCP,\n",
    "                                averageb0Volumes,\n",
    "                                createBrainMaskFromb0Data,\n",
    "                                replaceNegativeData,\n",
    "                                normalize_data)\n",
    "from diGP.dataManipulations import (DataHandler,\n",
    "                                    log_q_squared,\n",
    "                                    generateCoordinates)\n",
    "from diGP.generateSyntheticData import combineCoordinatesAndqVecs\n",
    "\n",
    "%matplotlib inline"
   ]
  },
  {
   "cell_type": "code",
   "execution_count": 4,
   "metadata": {
    "collapsed": false
   },
   "outputs": [
    {
     "name": "stdout",
     "output_type": "stream",
     "text": [
      "C:\\Users\\sesjojen\\Documents\\Data\\HumanConnectomeProject\\mgh_1007\\diff\\preproc\n"
     ]
    }
   ],
   "source": [
    "dataPath = 'C:\\\\Users\\\\sesjojen\\\\Documents\\\\Data\\\\HumanConnectomeProject\\\\mgh_1007\\\\diff\\\\preproc'\n",
    "print(dataPath)"
   ]
  },
  {
   "cell_type": "code",
   "execution_count": 5,
   "metadata": {
    "collapsed": false
   },
   "outputs": [
    {
     "name": "stdout",
     "output_type": "stream",
     "text": [
      "B-values shape (552,)\n",
      "         min 0.000000 \n",
      "         max 10050.000000 \n",
      "B-vectors shape (552, 3)\n",
      "         min -0.998755 \n",
      "         max 0.998348 \n",
      "None\n"
     ]
    }
   ],
   "source": [
    "gtab, data, voxelSize = readHCP(dataPath)\n",
    "print(gtab.info)"
   ]
  },
  {
   "cell_type": "code",
   "execution_count": 6,
   "metadata": {
    "collapsed": true
   },
   "outputs": [],
   "source": [
    "data = replaceNegativeData(data, gtab)\n",
    "\n",
    "b0 = averageb0Volumes(data, gtab)\n",
    "mask = createBrainMaskFromb0Data(b0)\n",
    "data = normalize_data(data, b0, mask)"
   ]
  },
  {
   "cell_type": "markdown",
   "metadata": {},
   "source": [
    "To reduce turnaround I'll have to reduce the data size more than this."
   ]
  },
  {
   "cell_type": "markdown",
   "metadata": {},
   "source": [
    "One idea is to compare with spatial interpolation. Specifically, let X be every second slice and Xnew those in between. More advanced would be a checker board pattern."
   ]
  },
  {
   "cell_type": "code",
   "execution_count": 7,
   "metadata": {
    "collapsed": false
   },
   "outputs": [],
   "source": [
    "handler = DataHandler(gtab, data[:, :, ::2, :],\n",
    "                      voxelSize=(voxelSize[0], voxelSize[1], 2*voxelSize[2]), qMagnitudeTransform=log_q_squared)\n",
    "\n",
    "handlerPred = DataHandler(gtab, data[:, :, 1::2, :],\n",
    "                          voxelSize=(voxelSize[0], voxelSize[1], 2*voxelSize[2]), qMagnitudeTransform=log_q_squared)"
   ]
  },
  {
   "cell_type": "code",
   "execution_count": 8,
   "metadata": {
    "collapsed": false
   },
   "outputs": [],
   "source": [
    "del data"
   ]
  },
  {
   "cell_type": "code",
   "execution_count": null,
   "metadata": {
    "collapsed": false
   },
   "outputs": [
    {
     "data": {
      "text/plain": [
       "array([0])"
      ]
     },
     "execution_count": 9,
     "metadata": {},
     "output_type": "execute_result"
    }
   ],
   "source": [
    "spatialLengthScale = 5\n",
    "bValLengthScale = 3\n",
    "\n",
    "kernel = (GPy.kern.RBF(input_dim=1, active_dims=[0],\n",
    "                       variance=1,\n",
    "                       lengthscale=spatialLengthScale) *\n",
    "          GPy.kern.RBF(input_dim=1, active_dims=[1],\n",
    "                       variance=1,\n",
    "                       lengthscale=spatialLengthScale) *\n",
    "          GPy.kern.RBF(input_dim=1, active_dims=[2],\n",
    "                       variance=1,\n",
    "                       lengthscale=spatialLengthScale) *\n",
    "          GPy.kern.Matern52(input_dim=1, active_dims=[3],\n",
    "                            variance=1,\n",
    "                            lengthscale=bValLengthScale) *\n",
    "          GPy.kern.LegendrePolynomial(\n",
    "             input_dim=3,\n",
    "             coefficients=np.array((2, 0.5, 0.05)),\n",
    "             orders=(0, 2, 4),\n",
    "             active_dims=(4, 5, 6)))\n",
    "\n",
    "kernel.parts[0].variance.fix(value=1)\n",
    "kernel.parts[1].variance.fix(value=1)\n",
    "kernel.parts[2].variance.fix(value=1)\n",
    "kernel.parts[3].variance.fix(value=1)"
   ]
  },
  {
   "cell_type": "code",
   "execution_count": null,
   "metadata": {
    "collapsed": false
   },
   "outputs": [],
   "source": [
    "grid_dims = [[0], [1], [2], [3, 4, 5, 6]]\n",
    "\n",
    "model = GPy.models.GPRegressionGrid(handler.X, handler.y, kernel, grid_dims=grid_dims)        "
   ]
  },
  {
   "cell_type": "code",
   "execution_count": null,
   "metadata": {
    "collapsed": false
   },
   "outputs": [],
   "source": [
    "model.optimize(messages=True)"
   ]
  },
  {
   "cell_type": "code",
   "execution_count": null,
   "metadata": {
    "collapsed": false
   },
   "outputs": [],
   "source": [
    "print(model)\n",
    "print(\"Legendre coefficients: {}\".format(model.mul.LegendrePolynomial.coefficients))"
   ]
  },
  {
   "cell_type": "code",
   "execution_count": null,
   "metadata": {
    "collapsed": false
   },
   "outputs": [],
   "source": [
    "mu = model.predict_noiseless(handlerPred.X, compute_var=False)"
   ]
  },
  {
   "cell_type": "code",
   "execution_count": null,
   "metadata": {
    "collapsed": false
   },
   "outputs": [],
   "source": [
    "plt.hist(handlerPred.y-mu, bins=500);"
   ]
  },
  {
   "cell_type": "code",
   "execution_count": null,
   "metadata": {
    "collapsed": false
   },
   "outputs": [],
   "source": [
    "yTrue = np.reshape(handler.y, handler.originalShape)\n",
    "mu = mu.reshape(handlerPred.originalShape)\n",
    "mu.shape"
   ]
  },
  {
   "cell_type": "code",
   "execution_count": null,
   "metadata": {
    "collapsed": false
   },
   "outputs": [],
   "source": [
    "sns.set_style(\"dark\")\n",
    "f, axs = plt.subplots(5, 3)\n",
    "f.set_figheight(16*3)\n",
    "f.set_figwidth(16)\n",
    "for i in range(5):\n",
    "    axs[i, 0].imshow(yTrue[:, :, 5, i], vmin=0, vmax=1)\n",
    "    axs[i, 1].imshow(mu[:, :, 5, i], vmin=0, vmax=1)\n",
    "    axs[i, 2].imshow(yTrue[:, :, 6, i], vmin=0, vmax=1)"
   ]
  }
 ],
 "metadata": {
  "anaconda-cloud": {},
  "kernelspec": {
   "display_name": "Python [conda root]",
   "language": "python",
   "name": "conda-root-py"
  },
  "language_info": {
   "codemirror_mode": {
    "name": "ipython",
    "version": 3
   },
   "file_extension": ".py",
   "mimetype": "text/x-python",
   "name": "python",
   "nbconvert_exporter": "python",
   "pygments_lexer": "ipython3",
   "version": "3.5.2"
  }
 },
 "nbformat": 4,
 "nbformat_minor": 1
}
