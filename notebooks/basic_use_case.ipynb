{
 "cells": [
  {
   "cell_type": "code",
   "execution_count": null,
   "metadata": {
    "collapsed": false
   },
   "outputs": [],
   "source": [
    "%load_ext autoreload\n",
    "%autoreload 2"
   ]
  },
  {
   "cell_type": "code",
   "execution_count": null,
   "metadata": {
    "collapsed": true
   },
   "outputs": [],
   "source": []
  },
  {
   "cell_type": "code",
   "execution_count": null,
   "metadata": {
    "collapsed": true
   },
   "outputs": [],
   "source": [
    "import os\n",
    "import sys\n",
    "module_path = os.path.abspath(os.path.join('..'))\n",
    "if module_path not in sys.path:\n",
    "    sys.path.append(module_path)"
   ]
  },
  {
   "cell_type": "code",
   "execution_count": null,
   "metadata": {
    "collapsed": false
   },
   "outputs": [],
   "source": [
    "import numpy as np\n",
    "import matplotlib.pyplot as plt\n",
    "import seaborn as sns\n",
    "import GPy\n",
    "from diGP.preprocessing_pipelines import (preprocess_SPARC, preprocess_HCP)\n",
    "from diGP.dataManipulations import (DataHandler,\n",
    "                                    log_q_squared,\n",
    "                                    generateCoordinates)\n",
    "from diGP.generateSyntheticData import combineCoordinatesAndqVecs\n",
    "from diGP.model import Model\n",
    "\n",
    "%matplotlib inline\n",
    "sns.set_style('dark')"
   ]
  },
  {
   "cell_type": "code",
   "execution_count": null,
   "metadata": {
    "collapsed": false
   },
   "outputs": [],
   "source": [
    "dataPath = {'HCP_1007': 'C:\\\\Users\\\\sesjojen\\\\Documents\\\\Data\\\\HumanConnectomeProject\\\\mgh_1007\\\\diff\\\\preproc',\n",
    "            'SPARC_20': 'C:\\\\Users\\\\sesjojen\\\\Documents\\\\Data\\\\SPARC\\\\nifti\\\\gradient_20_nifti',\n",
    "            'SPARC_30': 'C:\\\\Users\\\\sesjojen\\\\Documents\\\\Data\\\\SPARC\\\\nifti\\\\gradient_30_nifti',\n",
    "            'SPARC_60': 'C:\\\\Users\\\\sesjojen\\\\Documents\\\\Data\\\\SPARC\\\\nifti\\\\gradient_60_nifti',\n",
    "            'SPARC_GS': 'C:\\\\Users\\\\sesjojen\\\\Documents\\\\Data\\\\SPARC\\\\nifti\\\\goldstandard_nifti'}\n",
    "\n",
    "def preprocess(path_dict, data_source):\n",
    "    if data_source[0:3] == 'HCP':\n",
    "        return preprocess_HCP(path_dict[data_source])\n",
    "    elif data_source[0:5] == 'SPARC':\n",
    "        return preprocess_SPARC(path_dict[data_source])\n",
    "    else:\n",
    "        raise Exception('Unknown data source.')"
   ]
  },
  {
   "cell_type": "code",
   "execution_count": null,
   "metadata": {
    "collapsed": false
   },
   "outputs": [],
   "source": [
    "source = 'SPARC_20'\n",
    "gtab, data, voxelSize = preprocess(dataPath, source)\n",
    "print(gtab.info)"
   ]
  },
  {
   "cell_type": "markdown",
   "metadata": {},
   "source": [
    "Compare with spatial interpolation in striped pattern."
   ]
  },
  {
   "cell_type": "code",
   "execution_count": null,
   "metadata": {
    "collapsed": false
   },
   "outputs": [],
   "source": [
    "mid_z = np.round(data.shape[2]/2).astype(int)\n",
    "handler = DataHandler(gtab, data[::2, :, mid_z, :], voxelSize=(2*voxelSize[0], voxelSize[1]),\n",
    "                      image_origin=voxelSize[0:2]*np.array([0, 0]), qMagnitudeTransform=log_q_squared)\n",
    "\n",
    "handlerPred = DataHandler(gtab, data[1::2, :, mid_z, :], voxelSize=(2*voxelSize[0], voxelSize[1]),\n",
    "                          image_origin=voxelSize[0:2]*np.array([1, 0]), qMagnitudeTransform=log_q_squared)"
   ]
  },
  {
   "cell_type": "code",
   "execution_count": null,
   "metadata": {
    "collapsed": false
   },
   "outputs": [],
   "source": [
    "spatialLengthScale = 5\n",
    "bValLengthScale = 3\n",
    "\n",
    "kernel = (GPy.kern.RBF(input_dim=1, active_dims=[0],\n",
    "                       variance=1,\n",
    "                       lengthscale=spatialLengthScale) *\n",
    "          GPy.kern.RBF(input_dim=1, active_dims=[1],\n",
    "                       variance=1,\n",
    "                       lengthscale=spatialLengthScale) *\n",
    "          GPy.kern.Matern52(input_dim=1, active_dims=[2],\n",
    "                            variance=1,\n",
    "                            lengthscale=bValLengthScale) *\n",
    "          GPy.kern.LegendrePolynomial(\n",
    "             input_dim=3,\n",
    "             coefficients=np.array((2, 0.5, 0.05)),\n",
    "             orders=(0, 2, 4),\n",
    "             active_dims=(3, 4, 5)))\n",
    "\n",
    "kernel.parts[0].variance.fix(value=1)\n",
    "kernel.parts[1].variance.fix(value=1)\n",
    "kernel.parts[2].variance.fix(value=1)"
   ]
  },
  {
   "cell_type": "code",
   "execution_count": null,
   "metadata": {
    "collapsed": false
   },
   "outputs": [],
   "source": [
    "grid_dims = [[0], [1], [2, 3, 4, 5]]\n",
    "\n",
    "model = Model(handler, kernel, data_handler_pred=handlerPred, grid_dims=grid_dims, verbose=False)       "
   ]
  },
  {
   "cell_type": "code",
   "execution_count": null,
   "metadata": {
    "collapsed": false
   },
   "outputs": [],
   "source": [
    "model.train(restarts=True)"
   ]
  },
  {
   "cell_type": "code",
   "execution_count": null,
   "metadata": {
    "collapsed": false
   },
   "outputs": [],
   "source": [
    "print(model.GP_model)\n",
    "print(\"\\nLegendre coefficients: \\n{}\".format(model.GP_model.mul.LegendrePolynomial.coefficients))"
   ]
  },
  {
   "cell_type": "code",
   "execution_count": null,
   "metadata": {
    "collapsed": false
   },
   "outputs": [],
   "source": [
    "#mu = model.predict(compute_var=False)\n",
    "mu, var = model.predict(compute_var=True)"
   ]
  },
  {
   "cell_type": "code",
   "execution_count": null,
   "metadata": {
    "collapsed": false
   },
   "outputs": [],
   "source": [
    "plt.hist(handlerPred.y-mu, bins=500);"
   ]
  },
  {
   "cell_type": "code",
   "execution_count": null,
   "metadata": {
    "collapsed": false
   },
   "outputs": [],
   "source": [
    "y_slice = model.data_handler.data[:, :, 1]\n",
    "mu_slice = model.data_handler_pred.untransform(mu)[:, :, 1]\n",
    "var_slice = model.data_handler_pred.untransform(var)[:, :, 1]\n",
    "\n",
    "#plt.imshow(y_slice, vmin=0, vmax=1)\n",
    "plt.imshow(mu_slice, vmin=0, vmax=1)\n",
    "#plt.imshow(var_slice)"
   ]
  },
  {
   "cell_type": "code",
   "execution_count": null,
   "metadata": {
    "collapsed": false
   },
   "outputs": [],
   "source": [
    "sz=data.shape\n",
    "combined = np.zeros((sz[0], sz[1], sz[3]))\n",
    "\n",
    "y_idx = (handler.X_coordinates/ voxelSize[0:2]).astype(int)\n",
    "mu_idx = (handlerPred.X_coordinates / voxelSize[0:2]).astype(int)\n",
    "\n",
    "combined[y_idx[:, 0], y_idx[:, 1], :] = handler.y.reshape(np.prod(handler.originalShape[0:-1]), -1)\n",
    "combined[mu_idx[:, 0], mu_idx[:, 1], :] = mu.reshape(np.prod(handlerPred.originalShape[0:-1]), -1)"
   ]
  },
  {
   "cell_type": "code",
   "execution_count": null,
   "metadata": {
    "collapsed": false
   },
   "outputs": [],
   "source": [
    "fig, ax = plt.subplots()\n",
    "cax = ax.imshow(combined[:, :, 30], vmin=0, vmax=1)\n",
    "fig.colorbar(cax)"
   ]
  }
 ],
 "metadata": {
  "anaconda-cloud": {},
  "kernelspec": {
   "display_name": "Python [conda root]",
   "language": "python",
   "name": "conda-root-py"
  },
  "language_info": {
   "codemirror_mode": {
    "name": "ipython",
    "version": 3
   },
   "file_extension": ".py",
   "mimetype": "text/x-python",
   "name": "python",
   "nbconvert_exporter": "python",
   "pygments_lexer": "ipython3",
   "version": "3.5.2"
  }
 },
 "nbformat": 4,
 "nbformat_minor": 1
}
