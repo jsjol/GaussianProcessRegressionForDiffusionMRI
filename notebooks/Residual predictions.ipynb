{
 "cells": [
  {
   "cell_type": "code",
   "execution_count": null,
   "metadata": {
    "collapsed": true
   },
   "outputs": [],
   "source": [
    "%load_ext autoreload\n",
    "%autoreload 2"
   ]
  },
  {
   "cell_type": "code",
   "execution_count": null,
   "metadata": {
    "collapsed": true
   },
   "outputs": [],
   "source": [
    "import os\n",
    "import sys\n",
    "module_path = os.path.abspath(os.path.join('..'))\n",
    "if module_path not in sys.path:\n",
    "    sys.path.append(module_path)"
   ]
  },
  {
   "cell_type": "code",
   "execution_count": null,
   "metadata": {
    "collapsed": true
   },
   "outputs": [],
   "source": [
    "import numpy as np\n",
    "import matplotlib.pyplot as plt\n",
    "import seaborn as sns\n",
    "import GPy\n",
    "from dipy.core.gradients import gradient_table\n",
    "from diGP.preprocessing_pipelines import preprocess_SPARC\n",
    "from diGP.dataManipulations import (DataHandler, log_q_squared)\n",
    "from diGP.model import Model\n",
    "\n",
    "%matplotlib inline\n",
    "sns.set_style('dark')"
   ]
  },
  {
   "cell_type": "code",
   "execution_count": null,
   "metadata": {
    "collapsed": true
   },
   "outputs": [],
   "source": [
    "dataPath = {'SPARC_20': 'C:\\\\Users\\\\sesjojen\\\\Documents\\\\Data\\\\SPARC\\\\nifti\\\\gradient_20_nifti',\n",
    "            'SPARC_30': 'C:\\\\Users\\\\sesjojen\\\\Documents\\\\Data\\\\SPARC\\\\nifti\\\\gradient_30_nifti',\n",
    "            'SPARC_60': 'C:\\\\Users\\\\sesjojen\\\\Documents\\\\Data\\\\SPARC\\\\nifti\\\\gradient_60_nifti',\n",
    "            'SPARC_GS': 'C:\\\\Users\\\\sesjojen\\\\Documents\\\\Data\\\\SPARC\\\\nifti\\\\goldstandard_nifti'}\n",
    "q_test_path = 'C:\\\\Users\\\\sesjojen\\\\Documents\\\\Data\\\\SPARC\\\\EstimatedSignal_qvec.txt'"
   ]
  },
  {
   "cell_type": "markdown",
   "metadata": {},
   "source": [
    "Load data to use for prediction."
   ]
  },
  {
   "cell_type": "code",
   "execution_count": null,
   "metadata": {
    "collapsed": false
   },
   "outputs": [],
   "source": [
    "source = 'SPARC_20'\n",
    "gtab, data, voxelSize = preprocess_SPARC(dataPath[source])\n",
    "data = data[:, :, 0, :]  # Remove singleton dimension"
   ]
  },
  {
   "cell_type": "markdown",
   "metadata": {},
   "source": [
    "Load test data. The resulting gradient table (gtab_test) is identical to that you get by reverse engineering from the provided q-values, except that it includes b0."
   ]
  },
  {
   "cell_type": "code",
   "execution_count": null,
   "metadata": {
    "collapsed": false
   },
   "outputs": [],
   "source": [
    "_, data_GS, _ = preprocess_SPARC(dataPath['SPARC_GS'])\n",
    "data_GS = data_GS[:, :, 0, 1:]  # Remove b0 and singleton dimension\n",
    "data_GS = data_GS.transpose((1, 0, 2))  # Transpose to get same shape as other data"
   ]
  },
  {
   "cell_type": "markdown",
   "metadata": {},
   "source": [
    "Would be simpler to use the gradient table from the gold standard if it hadn't contained b0."
   ]
  },
  {
   "cell_type": "code",
   "execution_count": null,
   "metadata": {
    "collapsed": true
   },
   "outputs": [],
   "source": [
    "def load_q_test(path):\n",
    "    with open(path, 'r') as f:\n",
    "        out = [line.split(' ') for line in f.readlines()]\n",
    "    return np.array(out, dtype=float)\n",
    "\n",
    "def gtab_from_q(gtab, q):\n",
    "    small_delta = gtab.small_delta\n",
    "    big_delta = gtab.big_delta\n",
    "    tau = (big_delta - small_delta/3) * 1e-3\n",
    "    q_magnitude = np.sqrt(np.sum(q_test ** 2, 1))\n",
    "    bvals = (2*np.pi*q_magnitude) ** 2 * tau\n",
    "    bvecs = q_test / q_magnitude[:, None]\n",
    "    return gradient_table(bvals=bvals, bvecs=bvecs, small_delta=small_delta, big_delta=big_delta)\n",
    "\n",
    "q_test = load_q_test(q_test_path)\n",
    "gtab_test = gtab_from_q(gtab, q_test)"
   ]
  },
  {
   "cell_type": "markdown",
   "metadata": {},
   "source": [
    "Fit a DTI model to use as the mean of the GP."
   ]
  },
  {
   "cell_type": "code",
   "execution_count": null,
   "metadata": {
    "collapsed": false
   },
   "outputs": [],
   "source": [
    "import dipy.reconst.dti as dti\n",
    "\n",
    "tenmodel = dti.TensorModel(gtab)\n",
    "tenfit = tenmodel.fit(data)\n",
    "\n",
    "residuals = data - tenfit.predict(gtab)\n",
    "pred_dti = tenfit.predict(gtab_test)"
   ]
  },
  {
   "cell_type": "code",
   "execution_count": null,
   "metadata": {
    "collapsed": false
   },
   "outputs": [],
   "source": [
    "plt.imshow(residuals[:,:,20])"
   ]
  },
  {
   "cell_type": "markdown",
   "metadata": {},
   "source": [
    "It is clear that there are spatial correlations in the residuals."
   ]
  },
  {
   "cell_type": "code",
   "execution_count": null,
   "metadata": {
    "collapsed": true
   },
   "outputs": [],
   "source": [
    "lmbda=None\n",
    "qMagnitudeTransform = None\n",
    "handler = DataHandler(gtab, residuals, qMagnitudeTransform=qMagnitudeTransform,\n",
    "                      voxelSize=voxelSize[0:2], box_cox_lambda=lmbda)\n",
    "handlerPred = DataHandler(gtab_test, data=None, spatial_shape=data_GS.shape[0:2],\n",
    "                          qMagnitudeTransform=qMagnitudeTransform, voxelSize=voxelSize[0:2], box_cox_lambda=lmbda)"
   ]
  },
  {
   "cell_type": "code",
   "execution_count": null,
   "metadata": {
    "collapsed": true
   },
   "outputs": [],
   "source": [
    "spatialLengthScale = 5\n",
    "bValLengthScale = 3\n",
    "\n",
    "kernel = (GPy.kern.RBF(input_dim=1, active_dims=[0],\n",
    "                       variance=1,\n",
    "                       lengthscale=spatialLengthScale) *\n",
    "          GPy.kern.RBF(input_dim=1, active_dims=[1],\n",
    "                       variance=1,\n",
    "                       lengthscale=spatialLengthScale) *\n",
    "          GPy.kern.RBF(input_dim=1, active_dims=[2],\n",
    "                            variance=1,\n",
    "                            lengthscale=bValLengthScale) *\n",
    "          GPy.kern.LegendrePolynomial(\n",
    "             input_dim=3,\n",
    "             coefficients=np.array((2, 0.5, 0.05)),\n",
    "             orders=(0, 2, 4),\n",
    "             active_dims=(3, 4, 5)))\n",
    "\n",
    "kernel.parts[0].variance.fix(value=1)\n",
    "kernel.parts[1].variance.fix(value=1)\n",
    "kernel.parts[2].variance.fix(value=1)\n",
    "\n",
    "grid_dims = [[0], [1], [2, 3, 4, 5]]\n",
    "\n",
    "model = Model(handler, kernel, data_handler_pred=handlerPred, grid_dims=grid_dims, verbose=False)"
   ]
  },
  {
   "cell_type": "code",
   "execution_count": null,
   "metadata": {
    "collapsed": false
   },
   "outputs": [],
   "source": [
    "np.random.seed(0)\n",
    "model.train(restarts=True)\n",
    "\n",
    "print(model.GP_model)\n",
    "print(\"\\nLegendre coefficients: \\n{}\".format(model.GP_model.mul.LegendrePolynomial.coefficients))"
   ]
  },
  {
   "cell_type": "code",
   "execution_count": null,
   "metadata": {
    "collapsed": true
   },
   "outputs": [],
   "source": [
    "mu = model.predict(compute_var=False)\n",
    "pred_residuals = model.data_handler_pred.untransform(mu)"
   ]
  },
  {
   "cell_type": "code",
   "execution_count": null,
   "metadata": {
    "collapsed": false
   },
   "outputs": [],
   "source": [
    "pred = pred_dti + pred_residuals"
   ]
  },
  {
   "cell_type": "code",
   "execution_count": null,
   "metadata": {
    "collapsed": false
   },
   "outputs": [],
   "source": [
    "def get_SPARC_metrics(gtab, target, pred):\n",
    "    bvals_in_range = (gtab.bvals <= 3500)  # 3500 instead of 3000 just to avoid round-off problems\n",
    "    lowIdx = np.nonzero(bvals_in_range)\n",
    "    highIdx = np.nonzero(np.invert(bvals_in_range))\n",
    "    NMSE_low = compute_NMSE(target[:, :, lowIdx], pred[:, :, lowIdx])\n",
    "    NMSE_high = compute_NMSE(target[:, :, highIdx], pred[:, :, highIdx])\n",
    "    NMSE_all = compute_NMSE(target, pred)\n",
    "    print(\"NMSE low: {}\\nNMSE high: {}\\nNMSE all: {}\".format(NMSE_low, NMSE_high, NMSE_all))\n",
    "    return NMSE_low, NMSE_high, NMSE_all\n",
    "\n",
    "def compute_NMSE(target, pred):\n",
    "    target = target.flatten()\n",
    "    pred = pred.flatten()\n",
    "    return np.mean(((target - pred)/target) **2)\n",
    "\n",
    "print(\"\\nDTI model:\")\n",
    "get_SPARC_metrics(gtab_test, data_GS, pred_dti)\n",
    "\n",
    "print(\"\\nDTI + GP model:\")\n",
    "get_SPARC_metrics(gtab_test, data_GS, pred);"
   ]
  }
 ],
 "metadata": {
  "anaconda-cloud": {},
  "kernelspec": {
   "display_name": "Python [conda root]",
   "language": "python",
   "name": "conda-root-py"
  },
  "language_info": {
   "codemirror_mode": {
    "name": "ipython",
    "version": 3
   },
   "file_extension": ".py",
   "mimetype": "text/x-python",
   "name": "python",
   "nbconvert_exporter": "python",
   "pygments_lexer": "ipython3",
   "version": "3.5.2"
  }
 },
 "nbformat": 4,
 "nbformat_minor": 1
}
