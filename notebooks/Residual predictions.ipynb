{
 "cells": [
  {
   "cell_type": "code",
   "execution_count": null,
   "metadata": {
    "collapsed": true
   },
   "outputs": [],
   "source": [
    "%load_ext autoreload\n",
    "%autoreload 2"
   ]
  },
  {
   "cell_type": "code",
   "execution_count": null,
   "metadata": {
    "collapsed": true
   },
   "outputs": [],
   "source": [
    "import os\n",
    "import sys\n",
    "module_path = os.path.abspath(os.path.join('..'))\n",
    "if module_path not in sys.path:\n",
    "    sys.path.append(module_path)"
   ]
  },
  {
   "cell_type": "code",
   "execution_count": null,
   "metadata": {
    "collapsed": false
   },
   "outputs": [],
   "source": [
    "import json\n",
    "import numpy as np\n",
    "import matplotlib.pyplot as plt\n",
    "import GPy\n",
    "from diGP.preprocessing_pipelines import get_SPARC_train_and_test\n",
    "from diGP.dataManipulations import (DataHandler, log_q_squared)\n",
    "from diGP.model import Model\n",
    "from diGP.evaluation import get_SPARC_metrics\n",
    "\n",
    "%matplotlib inline"
   ]
  },
  {
   "cell_type": "code",
   "execution_count": null,
   "metadata": {
    "collapsed": false
   },
   "outputs": [],
   "source": [
    "with open('../config.json', 'r') as json_file:\n",
    "    conf = json.load(json_file)\n",
    "data_paths = conf['SPARC']['data_paths']\n",
    "q_test_path = conf['SPARC']['q_test_path']"
   ]
  },
  {
   "cell_type": "markdown",
   "metadata": {},
   "source": [
    "Load data to use for prediction."
   ]
  },
  {
   "cell_type": "code",
   "execution_count": null,
   "metadata": {
    "collapsed": false
   },
   "outputs": [],
   "source": [
    "source = 'gradient_20'\n",
    "gtab, data, voxelSize = get_SPARC_train_and_test(data_paths[source], data_paths['goldstandard'], q_test_path)"
   ]
  },
  {
   "cell_type": "markdown",
   "metadata": {},
   "source": [
    "Fit various base models that could be used as the mean of the GP."
   ]
  },
  {
   "cell_type": "code",
   "execution_count": null,
   "metadata": {
    "collapsed": true
   },
   "outputs": [],
   "source": [
    "import dipy.reconst.dti as dti\n",
    "\n",
    "tenmodel = dti.TensorModel(gtab['train'])\n",
    "tenfit = tenmodel.fit(data['train'])\n",
    "\n",
    "residuals = {'DTI': data['train'] - tenfit.predict(gtab['train'])}\n",
    "pred = {'DTI': tenfit.predict(gtab['test'])}"
   ]
  },
  {
   "cell_type": "markdown",
   "metadata": {
    "collapsed": true
   },
   "source": [
    "from dipy.reconst.csdeconv import ConstrainedSphericalDeconvModel\n",
    "\n",
    "response = ((3e-3, 2e-4, 0), 1)\n",
    "csd_model = ConstrainedSphericalDeconvModel(gtab['train'], response, sh_order=4)\n",
    "csd_fit = csd_model.fit(data['train'])\n",
    "residuals['CSD'] = data['train'] - csd_fit.predict(gtab['train'])\n",
    "pred['CSD'] = csd_fit.predict(gtab['test'])"
   ]
  },
  {
   "cell_type": "code",
   "execution_count": null,
   "metadata": {
    "collapsed": false
   },
   "outputs": [],
   "source": [
    "residuals['MAP'] = data['train'] - np.load(os.path.join(data_paths[source], 'map_mri_train.npy'))\n",
    "pred['MAP'] = np.load(os.path.join(data_paths[source], 'map_mri_test.npy'))"
   ]
  },
  {
   "cell_type": "code",
   "execution_count": null,
   "metadata": {
    "collapsed": false
   },
   "outputs": [],
   "source": [
    "base_model = 'MAP'\n",
    "plt.imshow(residuals[base_model][:,:,20], cmap='gray')"
   ]
  },
  {
   "cell_type": "markdown",
   "metadata": {},
   "source": [
    "It is clear that there are spatial correlations in the residuals."
   ]
  },
  {
   "cell_type": "code",
   "execution_count": null,
   "metadata": {
    "collapsed": true
   },
   "outputs": [],
   "source": [
    "qMagnitudeTransform = np.sqrt\n",
    "handler = DataHandler(gtab['train'], residuals[base_model], qMagnitudeTransform=qMagnitudeTransform,\n",
    "                      voxelSize=voxelSize[0:2])\n",
    "handlerPred = DataHandler(gtab['test'], data=None, spatial_shape=data['test'].shape[0:2],\n",
    "                          qMagnitudeTransform=qMagnitudeTransform, voxelSize=voxelSize[0:2])"
   ]
  },
  {
   "cell_type": "markdown",
   "metadata": {},
   "source": [
    "b = np.array([0, 1000, 2000, 3000, 4000, 5000])\n",
    "q = np.sqrt(b/0.07*1e-3)/(2*np.pi)\n",
    "print(q)\n"
   ]
  },
  {
   "cell_type": "markdown",
   "metadata": {},
   "source": [
    "plt.hist(residuals['MAP'].flatten(), bins=100);"
   ]
  },
  {
   "cell_type": "code",
   "execution_count": null,
   "metadata": {
    "collapsed": true
   },
   "outputs": [],
   "source": [
    "spatialLengthScale = 2\n",
    "bValLengthScale = 1\n",
    "\n",
    "kernel = (GPy.kern.RBF(input_dim=1, active_dims=[0],\n",
    "                       variance=1,\n",
    "                       lengthscale=spatialLengthScale) *\n",
    "          GPy.kern.RBF(input_dim=1, active_dims=[1],\n",
    "                       variance=1,\n",
    "                       lengthscale=spatialLengthScale) *\n",
    "          GPy.kern.RBF(input_dim=1, active_dims=[2],\n",
    "                            variance=1,\n",
    "                            lengthscale=bValLengthScale) *\n",
    "          GPy.kern.LegendrePolynomial(\n",
    "             input_dim=3,\n",
    "             coefficients=np.array((1e-2, 1e-3, 1e-4)),\n",
    "             orders=(0, 2, 4),\n",
    "             active_dims=(3, 4, 5)))\n",
    "\n",
    "kernel.parts[0].variance.fix(value=1)\n",
    "kernel.parts[1].variance.fix(value=1)\n",
    "kernel.parts[2].variance.fix(value=1)\n",
    "\n",
    "grid_dims = [[0], [1], [2, 3, 4, 5]]\n",
    "\n",
    "model = Model(handler, kernel, data_handler_pred=handlerPred, grid_dims=grid_dims, verbose=False)"
   ]
  },
  {
   "cell_type": "markdown",
   "metadata": {},
   "source": [
    "spatialLengthScale = 2\n",
    "bValLengthScale = 1\n",
    "\n",
    "kernel = (GPy.kern.RBF(input_dim=1, active_dims=[0],\n",
    "                       variance=1,\n",
    "                       lengthscale=spatialLengthScale) *\n",
    "          GPy.kern.RBF(input_dim=1, active_dims=[1],\n",
    "                       variance=1,\n",
    "                       lengthscale=spatialLengthScale) *\n",
    "          GPy.kern.RBF(input_dim=1, active_dims=[2],\n",
    "                            variance=1,\n",
    "                            lengthscale=bValLengthScale) *\n",
    "          GPy.kern.LegendrePolynomial(\n",
    "             input_dim=3,\n",
    "             coefficients=np.array((1, 0)),\n",
    "             orders=(0, 2),\n",
    "             active_dims=(3, 4, 5)))\n",
    "\n",
    "kernel.parts[0].variance.fix(value=1)\n",
    "kernel.parts[1].variance.fix(value=1)\n",
    "kernel.parts[3].coefficients.fix(value=(1, 0))\n",
    "\n",
    "grid_dims = [[0], [1], [2, 3, 4, 5]]\n",
    "\n",
    "model = Model(handler, kernel, data_handler_pred=handlerPred, grid_dims=grid_dims, verbose=False)"
   ]
  },
  {
   "cell_type": "code",
   "execution_count": null,
   "metadata": {
    "collapsed": false
   },
   "outputs": [],
   "source": [
    "np.random.seed(0)\n",
    "model.train(restarts=True)\n",
    "\n",
    "print(model.GP_model)\n",
    "print(\"\\nLegendre coefficients: \\n{}\".format(model.GP_model.mul.LegendrePolynomial.coefficients))"
   ]
  },
  {
   "cell_type": "code",
   "execution_count": null,
   "metadata": {
    "collapsed": true
   },
   "outputs": [],
   "source": [
    "mu = model.predict(compute_var=False)\n",
    "pred_residuals = model.data_handler_pred.untransform(mu)"
   ]
  },
  {
   "cell_type": "code",
   "execution_count": null,
   "metadata": {
    "collapsed": false
   },
   "outputs": [],
   "source": [
    "pred[\"{} + GP\".format(base_model)] = pred[base_model] + pred_residuals"
   ]
  },
  {
   "cell_type": "code",
   "execution_count": null,
   "metadata": {
    "collapsed": false
   },
   "outputs": [],
   "source": [
    "for key, value in pred.items():\n",
    "    print(\"\\n{}:\".format(key))\n",
    "    get_SPARC_metrics(gtab['test'], data['test'], value, verbose=True)"
   ]
  },
  {
   "cell_type": "code",
   "execution_count": null,
   "metadata": {
    "collapsed": false
   },
   "outputs": [],
   "source": [
    "import os\n",
    "import pickle\n",
    "with open(os.path.join(data_paths['gradient_20'], 'batch_run_prediction_results.p'), 'rb') as fp:\n",
    "    pred = pickle.load(fp)"
   ]
  }
 ],
 "metadata": {
  "anaconda-cloud": {},
  "kernelspec": {
   "display_name": "Python [conda root]",
   "language": "python",
   "name": "conda-root-py"
  },
  "language_info": {
   "codemirror_mode": {
    "name": "ipython",
    "version": 3
   },
   "file_extension": ".py",
   "mimetype": "text/x-python",
   "name": "python",
   "nbconvert_exporter": "python",
   "pygments_lexer": "ipython3",
   "version": "3.5.2"
  }
 },
 "nbformat": 4,
 "nbformat_minor": 1
}
