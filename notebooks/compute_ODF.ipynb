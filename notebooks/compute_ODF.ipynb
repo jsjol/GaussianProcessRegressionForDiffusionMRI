{
 "cells": [
  {
   "cell_type": "code",
   "execution_count": null,
   "metadata": {
    "collapsed": true
   },
   "outputs": [],
   "source": [
    "%load_ext autoreload\n",
    "%autoreload 2\n",
    "\n",
    "import os\n",
    "import sys\n",
    "module_path = os.path.abspath(os.path.join('..'))\n",
    "if module_path not in sys.path:\n",
    "    sys.path.append(module_path)"
   ]
  },
  {
   "cell_type": "code",
   "execution_count": null,
   "metadata": {
    "collapsed": true
   },
   "outputs": [],
   "source": [
    "import numpy as np\n",
    "from dipy.sims.voxel import multi_tensor, multi_tensor_odf\n",
    "from dipy.data import get_data, get_sphere\n",
    "from dipy.core.gradients import gradient_table\n",
    "from dipy.reconst.dsi import DiffusionSpectrumModel\n",
    "from dipy.viz import fvtk\n",
    "\n",
    "import json\n",
    "from diGP.preprocessing import get_HCP_loader\n",
    "from diGP.dataManipulations import DataHandler\n",
    "from diGP.model import GaussianProcessModel, get_default_independent_kernel\n",
    "import matplotlib.pyplot as plt\n",
    "\n",
    "%matplotlib inline"
   ]
  },
  {
   "cell_type": "code",
   "execution_count": null,
   "metadata": {
    "collapsed": true
   },
   "outputs": [],
   "source": [
    "with open('../config.json', 'r') as json_file:\n",
    "    conf = json.load(json_file)\n",
    "\n",
    "subject_path = conf['HCP']['data_paths']['mgh_1007']"
   ]
  },
  {
   "cell_type": "code",
   "execution_count": null,
   "metadata": {
    "collapsed": true
   },
   "outputs": [],
   "source": [
    "gtab = {}\n",
    "data = {}\n",
    "odf = {}"
   ]
  },
  {
   "cell_type": "code",
   "execution_count": null,
   "metadata": {
    "collapsed": false
   },
   "outputs": [],
   "source": [
    "loader = get_HCP_loader(subject_path)\n",
    "\n",
    "gtab['train'] = loader.gtab\n",
    "gtab['train'].info"
   ]
  },
  {
   "cell_type": "markdown",
   "metadata": {},
   "source": [
    "For the testing we will use a standard DSI acqusition scheme with 514 gradient directions and 1 S0. There's also the alternative of having a scheme with 4195 directions. In the case of the simulated multi-tensor signal is doesn't seem to make a big difference."
   ]
  },
  {
   "cell_type": "code",
   "execution_count": null,
   "metadata": {
    "collapsed": false
   },
   "outputs": [],
   "source": [
    "btable = np.loadtxt(get_data('dsi515btable'))\n",
    "#btable = np.loadtxt(get_data('dsi4169btable'))\n",
    "\n",
    "gtab['test'] = gradient_table(btable[:, 0], btable[:, 1:],\n",
    "                              big_delta=gtab['train'].big_delta, small_delta=gtab['train'].small_delta)\n",
    "gtab['test'].info"
   ]
  },
  {
   "cell_type": "markdown",
   "metadata": {},
   "source": [
    "Let’s create a multi tensor with 2 fiber directions at 60 degrees."
   ]
  },
  {
   "cell_type": "code",
   "execution_count": null,
   "metadata": {
    "collapsed": true
   },
   "outputs": [],
   "source": [
    "evals = np.array([[0.0015, 0.0003, 0.0003],\n",
    "                  [0.0015, 0.0003, 0.0003]])\n",
    "\n",
    "directions = [(-30, 0), (30, 0)]\n",
    "\n",
    "fractions = [50, 50]\n",
    "\n",
    "for key, _gtab in gtab.items():\n",
    "    data[key] = multi_tensor(_gtab, evals, 100, angles=directions,\n",
    "                             fractions=fractions, snr=None)[0][None, None, None, :]"
   ]
  },
  {
   "cell_type": "code",
   "execution_count": null,
   "metadata": {
    "collapsed": true
   },
   "outputs": [],
   "source": [
    "sphere = get_sphere('symmetric724').subdivide(1)\n",
    "\n",
    "odf['gt'] = multi_tensor_odf(sphere.vertices, evals, angles=directions,\n",
    "                             fractions=fractions)[None, None, None, :]"
   ]
  },
  {
   "cell_type": "markdown",
   "metadata": {},
   "source": [
    "Perform the reconstructions with standard DSI. To get sharp results, having a large r_end seems to have the biggest impact but increasing the qgrid_size also has some effect. Also, you can effectively disable the Hanning filter by setting the filter_width to some large value, say 100."
   ]
  },
  {
   "cell_type": "code",
   "execution_count": null,
   "metadata": {
    "collapsed": false
   },
   "outputs": [],
   "source": [
    "dsi_model = DiffusionSpectrumModel(gtab['test'], qgrid_size=25, r_end=50, filter_width=100)\n",
    "dsi_fit = dsi_model.fit(data['test'])\n",
    "\n",
    "odf['dsi'] = dsi_fit.odf(sphere)"
   ]
  },
  {
   "cell_type": "code",
   "execution_count": null,
   "metadata": {
    "collapsed": false
   },
   "outputs": [],
   "source": [
    "#dsi_model.filter\n",
    "#plt.plot(gtab['train'].qvals)\n",
    "plt.plot(data['test'].flatten())\n",
    "#plt.plot(data['pred'].flatten())\n",
    "plt.plot(dsi_fit.data.flatten() * dsi_model.filter)"
   ]
  },
  {
   "cell_type": "code",
   "execution_count": null,
   "metadata": {
    "collapsed": false
   },
   "outputs": [],
   "source": [
    "dsi_fit.rtop_pdf(normalized=False)/dsi_fit.rtop_signal(filtering=True)\n",
    "#/dsi_model.fit(data['pred']).rtop_signal(filtering=True)"
   ]
  },
  {
   "cell_type": "markdown",
   "metadata": {},
   "source": [
    "Predict the test data values using GP. To save time the hyperparameters are set to the values that the training would otherwise yield."
   ]
  },
  {
   "cell_type": "code",
   "execution_count": null,
   "metadata": {
    "collapsed": false
   },
   "outputs": [],
   "source": [
    "#data_handler = DataHandler(gtab['train'], data=data['train'])\n",
    "#data_handler_pred = DataHandler(gtab['test'], data=None, spatial_shape=(1, 1, 1))\n",
    "kernel = get_default_independent_kernel(3, n_max=6, q_lengthscale=1.16, coefficients=(1778, 31.4, 3.63, 0.56))\n",
    "#\n",
    "#gp_model = Model(data_handler, kernel, data_handler_pred=data_handler_pred, grid_dims=[[0], [1], [2], [3, 4, 5, 6]],\n",
    "#                 verbose=True)\n",
    "gp_model = GaussianProcessModel(gtab['train'], kernel=kernel)\n",
    "gp_fit = gp_model.fit(data['train'], retrain=False)\n",
    "#gp_model.train()"
   ]
  },
  {
   "cell_type": "code",
   "execution_count": null,
   "metadata": {
    "collapsed": false
   },
   "outputs": [],
   "source": [
    "#data['pred'] = gp_model.predict()\n",
    "data['pred'] = gp_fit.predict(gtab['test'], spatial_shape=(1, 1, 1))"
   ]
  },
  {
   "cell_type": "markdown",
   "metadata": {},
   "source": [
    "Feed the estimate to the same dsi model fit as above."
   ]
  },
  {
   "cell_type": "code",
   "execution_count": null,
   "metadata": {
    "collapsed": false
   },
   "outputs": [],
   "source": [
    "odf['gp'] = dsi_model.fit(data['pred']).odf(sphere)"
   ]
  },
  {
   "cell_type": "markdown",
   "metadata": {},
   "source": [
    "Visualize the ground truth ODF together with the DSI."
   ]
  },
  {
   "cell_type": "code",
   "execution_count": null,
   "metadata": {
    "collapsed": false
   },
   "outputs": [],
   "source": [
    "ren = fvtk.ren()\n",
    "\n",
    "odfs = np.vstack((odf['gt'], odf['dsi'], odf['gp']))\n",
    "\n",
    "odf_actor = fvtk.sphere_funcs(odfs, sphere)\n",
    "odf_actor.RotateX(90)\n",
    "fvtk.add(ren, odf_actor)\n",
    "fvtk.record(ren, out_path='dsi_sim.png', size=(300, 300))"
   ]
  }
 ],
 "metadata": {
  "anaconda-cloud": {},
  "kernelspec": {
   "display_name": "Python [conda root]",
   "language": "python",
   "name": "conda-root-py"
  },
  "language_info": {
   "codemirror_mode": {
    "name": "ipython",
    "version": 3
   },
   "file_extension": ".py",
   "mimetype": "text/x-python",
   "name": "python",
   "nbconvert_exporter": "python",
   "pygments_lexer": "ipython3",
   "version": "3.5.2"
  }
 },
 "nbformat": 4,
 "nbformat_minor": 1
}
